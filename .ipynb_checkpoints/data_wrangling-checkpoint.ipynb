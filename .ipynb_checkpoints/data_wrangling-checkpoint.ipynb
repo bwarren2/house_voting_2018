{
 "cells": [
  {
   "cell_type": "markdown",
   "metadata": {},
   "source": [
    "Imports"
   ]
  },
  {
   "cell_type": "code",
   "execution_count": 14,
   "metadata": {},
   "outputs": [],
   "source": [
    "# Import all the things\n",
    "import pandas as pd\n",
    "import numpy as np\n",
    "import matplotlib.pyplot as plt\n",
    "\n",
    "import chart_studio.plotly as py\n",
    "import plotly.graph_objs as go\n",
    "\n",
    "pd.options.display.max_rows = 10\n",
    "pd.options.display.max_seq_items = 200\n",
    "\n",
    "\n",
    "%matplotlib inline\n"
   ]
  },
  {
   "cell_type": "markdown",
   "metadata": {},
   "source": [
    "Data comes from https://dataverse.harvard.edu/file.xhtml?persistentId=doi:10.7910/DVN/IG0UN2/ELBYL3&version=7.0"
   ]
  },
  {
   "cell_type": "markdown",
   "metadata": {},
   "source": [
    "Load the data"
   ]
  },
  {
   "cell_type": "code",
   "execution_count": 15,
   "metadata": {},
   "outputs": [],
   "source": [
    "house_df = pd.read_csv('data/1976-2018-house2.csv', encoding = \"ISO-8859-1\")"
   ]
  },
  {
   "cell_type": "markdown",
   "metadata": {},
   "source": [
    "Filter out nonstandard elections and spot check a sample."
   ]
  },
  {
   "cell_type": "code",
   "execution_count": 16,
   "metadata": {},
   "outputs": [
    {
     "data": {
      "text/html": [
       "<div>\n",
       "<style scoped>\n",
       "    .dataframe tbody tr th:only-of-type {\n",
       "        vertical-align: middle;\n",
       "    }\n",
       "\n",
       "    .dataframe tbody tr th {\n",
       "        vertical-align: top;\n",
       "    }\n",
       "\n",
       "    .dataframe thead th {\n",
       "        text-align: right;\n",
       "    }\n",
       "</style>\n",
       "<table border=\"1\" class=\"dataframe\">\n",
       "  <thead>\n",
       "    <tr style=\"text-align: right;\">\n",
       "      <th></th>\n",
       "      <th>year</th>\n",
       "      <th>state</th>\n",
       "      <th>district</th>\n",
       "      <th>party</th>\n",
       "      <th>candidate</th>\n",
       "      <th>candidatevotes</th>\n",
       "    </tr>\n",
       "  </thead>\n",
       "  <tbody>\n",
       "    <tr>\n",
       "      <th>27603</th>\n",
       "      <td>2016</td>\n",
       "      <td>New York</td>\n",
       "      <td>1</td>\n",
       "      <td>conservative</td>\n",
       "      <td>Lee M. Zeldin</td>\n",
       "      <td>23327</td>\n",
       "    </tr>\n",
       "    <tr>\n",
       "      <th>27604</th>\n",
       "      <td>2016</td>\n",
       "      <td>New York</td>\n",
       "      <td>1</td>\n",
       "      <td>women's equality</td>\n",
       "      <td>Anna E. Throne-Holst</td>\n",
       "      <td>2496</td>\n",
       "    </tr>\n",
       "    <tr>\n",
       "      <th>27605</th>\n",
       "      <td>2016</td>\n",
       "      <td>New York</td>\n",
       "      <td>1</td>\n",
       "      <td>working families</td>\n",
       "      <td>Anna E. Throne-Holst</td>\n",
       "      <td>6147</td>\n",
       "    </tr>\n",
       "    <tr>\n",
       "      <th>27606</th>\n",
       "      <td>2016</td>\n",
       "      <td>New York</td>\n",
       "      <td>1</td>\n",
       "      <td>republican</td>\n",
       "      <td>Lee M. Zeldin</td>\n",
       "      <td>158409</td>\n",
       "    </tr>\n",
       "    <tr>\n",
       "      <th>27607</th>\n",
       "      <td>2016</td>\n",
       "      <td>New York</td>\n",
       "      <td>1</td>\n",
       "      <td>NaN</td>\n",
       "      <td>Void Vote</td>\n",
       "      <td>122</td>\n",
       "    </tr>\n",
       "  </tbody>\n",
       "</table>\n",
       "</div>"
      ],
      "text/plain": [
       "       year     state  district             party             candidate  \\\n",
       "27603  2016  New York         1      conservative         Lee M. Zeldin   \n",
       "27604  2016  New York         1  women's equality  Anna E. Throne-Holst   \n",
       "27605  2016  New York         1  working families  Anna E. Throne-Holst   \n",
       "27606  2016  New York         1        republican         Lee M. Zeldin   \n",
       "27607  2016  New York         1               NaN             Void Vote   \n",
       "\n",
       "       candidatevotes  \n",
       "27603           23327  \n",
       "27604            2496  \n",
       "27605            6147  \n",
       "27606          158409  \n",
       "27607             122  "
      ]
     },
     "execution_count": 16,
     "metadata": {},
     "output_type": "execute_result"
    }
   ],
   "source": [
    "filtered_house_df = house_df[\n",
    "    (house_df.special == False) \n",
    "    & (house_df.runoff != True)].copy()\n",
    "filtered_house_df.runoff=False\n",
    "\n",
    "filtered_house_df[(filtered_house_df.state=='New York') & (filtered_house_df.district==1) & (filtered_house_df.year==2016)][['year', 'state', 'district', 'party', 'candidate', 'candidatevotes']].head()\n"
   ]
  },
  {
   "cell_type": "markdown",
   "metadata": {},
   "source": [
    "Annoyingly, candidates can get votes in the same election from different parties.  We sum them up here."
   ]
  },
  {
   "cell_type": "code",
   "execution_count": 17,
   "metadata": {},
   "outputs": [],
   "source": [
    "factors = ['year', 'state', 'district', 'candidate']\n",
    "house_by_candidate = filtered_house_df[(pd.notna(filtered_house_df.party))].groupby(factors).candidatevotes.sum().reset_index()\n"
   ]
  },
  {
   "cell_type": "markdown",
   "metadata": {},
   "source": [
    "Next we take the top two candidates by total votes.  Often, but definitely not always, this is D + R."
   ]
  },
  {
   "cell_type": "code",
   "execution_count": 18,
   "metadata": {},
   "outputs": [],
   "source": [
    "top_two = house_by_candidate.groupby(['year', 'state', 'district']).apply(lambda x: x.nlargest(2, 'candidatevotes' )).reset_index(drop=True)\n"
   ]
  },
  {
   "cell_type": "markdown",
   "metadata": {},
   "source": [
    "And now we need a best-guess label for the candidate (ex D if they are basically a D that got other votes).  Take the most-vote party by candidate."
   ]
  },
  {
   "cell_type": "code",
   "execution_count": null,
   "metadata": {},
   "outputs": [],
   "source": [
    "max_vote_party_per_candidate = house_by_candidate.groupby(['year', 'state', 'district', 'candidate']).candidatevotes.max().reset_index()"
   ]
  },
  {
   "cell_type": "code",
   "execution_count": null,
   "metadata": {},
   "outputs": [],
   "source": [
    "best_party_per_candidate = filtered_house_df.merge(max_vote_party_per_candidate, on=['year', 'state', 'district', 'candidate'])[['year', 'state', 'district', 'candidate', 'party']]\n",
    "\n",
    "partied_top_two = top_two[top_two.year>1990].merge(best_party_per_candidate, on=['year', 'state', 'district', 'candidate'])"
   ]
  },
  {
   "cell_type": "code",
   "execution_count": 21,
   "metadata": {},
   "outputs": [],
   "source": [
    "# pd.options.display.max_rows = 60\n",
    "# partied_top_two.groupby(['party']).count().reset_index().sort_values(['year'], ascending=False)\n",
    "# pd.options.display.max_rows = 10# party_affiliation"
   ]
  },
  {
   "cell_type": "markdown",
   "metadata": {},
   "source": [
    "Spot checks."
   ]
  },
  {
   "cell_type": "code",
   "execution_count": 22,
   "metadata": {},
   "outputs": [
    {
     "data": {
      "text/html": [
       "<div>\n",
       "<style scoped>\n",
       "    .dataframe tbody tr th:only-of-type {\n",
       "        vertical-align: middle;\n",
       "    }\n",
       "\n",
       "    .dataframe tbody tr th {\n",
       "        vertical-align: top;\n",
       "    }\n",
       "\n",
       "    .dataframe thead th {\n",
       "        text-align: right;\n",
       "    }\n",
       "</style>\n",
       "<table border=\"1\" class=\"dataframe\">\n",
       "  <thead>\n",
       "    <tr style=\"text-align: right;\">\n",
       "      <th></th>\n",
       "      <th>year</th>\n",
       "      <th>state</th>\n",
       "      <th>district</th>\n",
       "      <th>candidate</th>\n",
       "      <th>candidatevotes</th>\n",
       "      <th>party</th>\n",
       "    </tr>\n",
       "  </thead>\n",
       "  <tbody>\n",
       "    <tr>\n",
       "      <th>0</th>\n",
       "      <td>1992</td>\n",
       "      <td>Alabama</td>\n",
       "      <td>1</td>\n",
       "      <td>Sonny Callahan</td>\n",
       "      <td>128874</td>\n",
       "      <td>republican</td>\n",
       "    </tr>\n",
       "    <tr>\n",
       "      <th>1</th>\n",
       "      <td>1992</td>\n",
       "      <td>Alabama</td>\n",
       "      <td>1</td>\n",
       "      <td>William A. Brewer</td>\n",
       "      <td>78742</td>\n",
       "      <td>democrat</td>\n",
       "    </tr>\n",
       "    <tr>\n",
       "      <th>2</th>\n",
       "      <td>1992</td>\n",
       "      <td>Alabama</td>\n",
       "      <td>2</td>\n",
       "      <td>Terry Everett</td>\n",
       "      <td>112906</td>\n",
       "      <td>republican</td>\n",
       "    </tr>\n",
       "    <tr>\n",
       "      <th>3</th>\n",
       "      <td>1992</td>\n",
       "      <td>Alabama</td>\n",
       "      <td>2</td>\n",
       "      <td>George C. Wallace, Jr.</td>\n",
       "      <td>109335</td>\n",
       "      <td>democrat</td>\n",
       "    </tr>\n",
       "    <tr>\n",
       "      <th>4</th>\n",
       "      <td>1992</td>\n",
       "      <td>Alabama</td>\n",
       "      <td>3</td>\n",
       "      <td>Glen Browder</td>\n",
       "      <td>119175</td>\n",
       "      <td>democrat</td>\n",
       "    </tr>\n",
       "    <tr>\n",
       "      <th>...</th>\n",
       "      <td>...</td>\n",
       "      <td>...</td>\n",
       "      <td>...</td>\n",
       "      <td>...</td>\n",
       "      <td>...</td>\n",
       "      <td>...</td>\n",
       "    </tr>\n",
       "    <tr>\n",
       "      <th>12687</th>\n",
       "      <td>2018</td>\n",
       "      <td>Wisconsin</td>\n",
       "      <td>7</td>\n",
       "      <td>Margaret Engebretson</td>\n",
       "      <td>124307</td>\n",
       "      <td>democrat</td>\n",
       "    </tr>\n",
       "    <tr>\n",
       "      <th>12688</th>\n",
       "      <td>2018</td>\n",
       "      <td>Wisconsin</td>\n",
       "      <td>8</td>\n",
       "      <td>Mike Gallagher</td>\n",
       "      <td>209410</td>\n",
       "      <td>republican</td>\n",
       "    </tr>\n",
       "    <tr>\n",
       "      <th>12689</th>\n",
       "      <td>2018</td>\n",
       "      <td>Wisconsin</td>\n",
       "      <td>8</td>\n",
       "      <td>Beau Liegeois</td>\n",
       "      <td>119265</td>\n",
       "      <td>democrat</td>\n",
       "    </tr>\n",
       "    <tr>\n",
       "      <th>12690</th>\n",
       "      <td>2018</td>\n",
       "      <td>Wyoming</td>\n",
       "      <td>0</td>\n",
       "      <td>Liz Cheney</td>\n",
       "      <td>127963</td>\n",
       "      <td>republican</td>\n",
       "    </tr>\n",
       "    <tr>\n",
       "      <th>12691</th>\n",
       "      <td>2018</td>\n",
       "      <td>Wyoming</td>\n",
       "      <td>0</td>\n",
       "      <td>Greg Hunter</td>\n",
       "      <td>59903</td>\n",
       "      <td>democrat</td>\n",
       "    </tr>\n",
       "  </tbody>\n",
       "</table>\n",
       "<p>12692 rows × 6 columns</p>\n",
       "</div>"
      ],
      "text/plain": [
       "       year      state  district               candidate  candidatevotes  \\\n",
       "0      1992    Alabama         1          Sonny Callahan          128874   \n",
       "1      1992    Alabama         1       William A. Brewer           78742   \n",
       "2      1992    Alabama         2           Terry Everett          112906   \n",
       "3      1992    Alabama         2  George C. Wallace, Jr.          109335   \n",
       "4      1992    Alabama         3            Glen Browder          119175   \n",
       "...     ...        ...       ...                     ...             ...   \n",
       "12687  2018  Wisconsin         7    Margaret Engebretson          124307   \n",
       "12688  2018  Wisconsin         8          Mike Gallagher          209410   \n",
       "12689  2018  Wisconsin         8           Beau Liegeois          119265   \n",
       "12690  2018    Wyoming         0              Liz Cheney          127963   \n",
       "12691  2018    Wyoming         0             Greg Hunter           59903   \n",
       "\n",
       "            party  \n",
       "0      republican  \n",
       "1        democrat  \n",
       "2      republican  \n",
       "3        democrat  \n",
       "4        democrat  \n",
       "...           ...  \n",
       "12687    democrat  \n",
       "12688  republican  \n",
       "12689    democrat  \n",
       "12690  republican  \n",
       "12691    democrat  \n",
       "\n",
       "[12692 rows x 6 columns]"
      ]
     },
     "execution_count": 22,
     "metadata": {},
     "output_type": "execute_result"
    }
   ],
   "source": [
    "partied_top_two"
   ]
  },
  {
   "cell_type": "markdown",
   "metadata": {},
   "source": [
    "Make the spine of a thing to merge data into"
   ]
  },
  {
   "cell_type": "code",
   "execution_count": null,
   "metadata": {},
   "outputs": [],
   "source": [
    "base = top_two[top_two.year>1990][['year','state','district']].drop_duplicates()"
   ]
  },
  {
   "cell_type": "markdown",
   "metadata": {},
   "source": [
    "Merge in D and R votes.  Check out Wisconsin and NY; big places are not just D vs R."
   ]
  },
  {
   "cell_type": "markdown",
   "metadata": {},
   "source": [
    "top_two_by_race = base.merge(partied_top_two[partied_top_two.party=='republican'], on=['year','state','district'], how='left')\n",
    "top_two_by_race = top_two_by_race.merge(partied_top_two[partied_top_two.party=='democrat'], on=['year','state','district'], how='left')"
   ]
  },
  {
   "cell_type": "markdown",
   "metadata": {},
   "source": [
    "Rename some columns."
   ]
  },
  {
   "cell_type": "code",
   "execution_count": 25,
   "metadata": {},
   "outputs": [],
   "source": [
    "top_two_by_race.columns = ['year', 'state', 'district', 'republican_candidate', 'republican_votes', 'republican_party', 'democratic_candidate', 'democratic_votes', 'democratic_party']\n"
   ]
  },
  {
   "cell_type": "markdown",
   "metadata": {},
   "source": [
    "This was where I exported data to use in the other viz tab that wrote to mapbox."
   ]
  },
  {
   "cell_type": "code",
   "execution_count": 13,
   "metadata": {},
   "outputs": [
    {
     "name": "stderr",
     "output_type": "stream",
     "text": [
      "<ipython-input-13-dd4375a69871>:3: SettingWithCopyWarning: \n",
      "A value is trying to be set on a copy of a slice from a DataFrame.\n",
      "Try using .loc[row_indexer,col_indexer] = value instead\n",
      "\n",
      "See the caveats in the documentation: https://pandas.pydata.org/pandas-docs/stable/user_guide/indexing.html#returning-a-view-versus-a-copy\n",
      "  sample['r_edge'] = sample.republican_votes - sample.democratic_votes\n"
     ]
    }
   ],
   "source": [
    "# top_two_by_race = top_two_by_race.dropna().copy()\n",
    "# sample = top_two_by_race[top_two_by_race.year>=2002]\n",
    "# sample['r_edge'] = sample.republican_votes - sample.democratic_votes\n",
    "# sample.groupby(['state', 'district']).r_edge.mean().reset_index().sort_values('r_edge')\n",
    "# pd.options.display.max_rows = 300\n",
    "# sample[abs(sample.r_edge>100000)].sort_values('r_edge', ascending=False).head(1)\n",
    "\n",
    "# sample.to_csv('~/.interchange/gerrymander_sample.csv')\n",
    "\n"
   ]
  },
  {
   "cell_type": "markdown",
   "metadata": {},
   "source": [
    "Resources: \n",
    "Found [538's work](https://fivethirtyeight.com/tag/the-gerrymandering-project/), which is much better for visualizing potential redistrictings. Found [NYT on PA](https://www.nytimes.com/interactive/2018/02/19/upshot/pennsylvania-new-house-districts-gerrymandering.html).  \n",
    "\n",
    "Cuts to consider:\n",
    "Find the Trump outlier districts from 2016, compare to 2018\n",
    "Do house composition by year for the onyear/offyear states to show votes left on the table."
   ]
  },
  {
   "cell_type": "markdown",
   "metadata": {},
   "source": [
    "Check against this: https://ballotpedia.org/Pivot_Counties:_How_the_206_Obama-Obama-Trump_counties_intersect_with_Congressional_districts"
   ]
  },
  {
   "cell_type": "markdown",
   "metadata": {},
   "source": [
    "Examples making plots"
   ]
  },
  {
   "cell_type": "code",
   "execution_count": 27,
   "metadata": {},
   "outputs": [],
   "source": [
    "\n",
    "plottable = top_two_by_race[(top_two_by_race.state=='Ohio') & (top_two_by_race.district==6)]"
   ]
  },
  {
   "cell_type": "code",
   "execution_count": 26,
   "metadata": {},
   "outputs": [
    {
     "data": {
      "text/html": [
       "<div>\n",
       "<style scoped>\n",
       "    .dataframe tbody tr th:only-of-type {\n",
       "        vertical-align: middle;\n",
       "    }\n",
       "\n",
       "    .dataframe tbody tr th {\n",
       "        vertical-align: top;\n",
       "    }\n",
       "\n",
       "    .dataframe thead th {\n",
       "        text-align: right;\n",
       "    }\n",
       "</style>\n",
       "<table border=\"1\" class=\"dataframe\">\n",
       "  <thead>\n",
       "    <tr style=\"text-align: right;\">\n",
       "      <th></th>\n",
       "      <th>year</th>\n",
       "      <th>state</th>\n",
       "      <th>district</th>\n",
       "      <th>republican_candidate</th>\n",
       "      <th>republican_votes</th>\n",
       "      <th>republican_party</th>\n",
       "      <th>democratic_candidate</th>\n",
       "      <th>democratic_votes</th>\n",
       "      <th>democratic_party</th>\n",
       "    </tr>\n",
       "  </thead>\n",
       "  <tbody>\n",
       "    <tr>\n",
       "      <th>0</th>\n",
       "      <td>1992</td>\n",
       "      <td>Alabama</td>\n",
       "      <td>1</td>\n",
       "      <td>Sonny Callahan</td>\n",
       "      <td>128874.0</td>\n",
       "      <td>republican</td>\n",
       "      <td>William A. Brewer</td>\n",
       "      <td>78742.0</td>\n",
       "      <td>democrat</td>\n",
       "    </tr>\n",
       "    <tr>\n",
       "      <th>1</th>\n",
       "      <td>1992</td>\n",
       "      <td>Alabama</td>\n",
       "      <td>2</td>\n",
       "      <td>Terry Everett</td>\n",
       "      <td>112906.0</td>\n",
       "      <td>republican</td>\n",
       "      <td>George C. Wallace, Jr.</td>\n",
       "      <td>109335.0</td>\n",
       "      <td>democrat</td>\n",
       "    </tr>\n",
       "    <tr>\n",
       "      <th>2</th>\n",
       "      <td>1992</td>\n",
       "      <td>Alabama</td>\n",
       "      <td>3</td>\n",
       "      <td>Don Sledge</td>\n",
       "      <td>73800.0</td>\n",
       "      <td>republican</td>\n",
       "      <td>Glen Browder</td>\n",
       "      <td>119175.0</td>\n",
       "      <td>democrat</td>\n",
       "    </tr>\n",
       "    <tr>\n",
       "      <th>3</th>\n",
       "      <td>1992</td>\n",
       "      <td>Alabama</td>\n",
       "      <td>4</td>\n",
       "      <td>Martha \"\"Mickey\"\" Strickland</td>\n",
       "      <td>66934.0</td>\n",
       "      <td>republican</td>\n",
       "      <td>Tom Bevill</td>\n",
       "      <td>157907.0</td>\n",
       "      <td>democrat</td>\n",
       "    </tr>\n",
       "    <tr>\n",
       "      <th>4</th>\n",
       "      <td>1992</td>\n",
       "      <td>Alabama</td>\n",
       "      <td>5</td>\n",
       "      <td>Terry Smith</td>\n",
       "      <td>77951.0</td>\n",
       "      <td>republican</td>\n",
       "      <td>Robert E. (Bud) Cramer, Jr.</td>\n",
       "      <td>160060.0</td>\n",
       "      <td>democrat</td>\n",
       "    </tr>\n",
       "  </tbody>\n",
       "</table>\n",
       "</div>"
      ],
      "text/plain": [
       "   year    state  district          republican_candidate  republican_votes  \\\n",
       "0  1992  Alabama         1                Sonny Callahan          128874.0   \n",
       "1  1992  Alabama         2                 Terry Everett          112906.0   \n",
       "2  1992  Alabama         3                    Don Sledge           73800.0   \n",
       "3  1992  Alabama         4  Martha \"\"Mickey\"\" Strickland           66934.0   \n",
       "4  1992  Alabama         5                   Terry Smith           77951.0   \n",
       "\n",
       "  republican_party         democratic_candidate  democratic_votes  \\\n",
       "0       republican            William A. Brewer           78742.0   \n",
       "1       republican       George C. Wallace, Jr.          109335.0   \n",
       "2       republican                 Glen Browder          119175.0   \n",
       "3       republican                   Tom Bevill          157907.0   \n",
       "4       republican  Robert E. (Bud) Cramer, Jr.          160060.0   \n",
       "\n",
       "  democratic_party  \n",
       "0         democrat  \n",
       "1         democrat  \n",
       "2         democrat  \n",
       "3         democrat  \n",
       "4         democrat  "
      ]
     },
     "execution_count": 26,
     "metadata": {},
     "output_type": "execute_result"
    }
   ],
   "source": [
    "top_two_by_race.head()"
   ]
  },
  {
   "cell_type": "code",
   "execution_count": 28,
   "metadata": {},
   "outputs": [
    {
     "data": {
      "text/plain": [
       "<AxesSubplot:xlabel='year'>"
      ]
     },
     "execution_count": 28,
     "metadata": {},
     "output_type": "execute_result"
    },
    {
     "data": {
      "image/png": "[encoded data removed]",
      "text/plain": [
       "<Figure size 432x288 with 1 Axes>"
      ]
     },
     "metadata": {
      "needs_background": "light"
     },
     "output_type": "display_data"
    }
   ],
   "source": [
    "plottable.plot.bar(x='year', y=['democratic_votes', 'republican_votes'])"
   ]
  },
  {
   "cell_type": "markdown",
   "metadata": {},
   "source": [
    "How do D and R votes relate in on and off years?"
   ]
  },
  {
   "cell_type": "code",
   "execution_count": null,
   "metadata": {},
   "outputs": [],
   "source": [
    "presidents = top_two_by_race[top_two_by_race.year%4==0].copy()\n",
    "offs = top_two_by_race[top_two_by_race.year%4==2].copy()"
   ]
  },
  {
   "cell_type": "code",
   "execution_count": 30,
   "metadata": {},
   "outputs": [],
   "source": [
    "offs['pres_year'] = offs.year-2"
   ]
  },
  {
   "cell_type": "code",
   "execution_count": 31,
   "metadata": {},
   "outputs": [],
   "source": [
    "offset_years = presidents.merge(offs, left_on = ['state', 'district', 'year'], right_on= ['state', 'district', 'pres_year'])"
   ]
  },
  {
   "cell_type": "code",
   "execution_count": 32,
   "metadata": {},
   "outputs": [],
   "source": [
    "offset_years.columns = ['year_pres', 'state', 'district', 'democratic_candidate_pres',\n",
    "       'democratic_votes_pres', 'democratic_party_pres', 'republican_candidate_pres',\n",
    "       'republican_votes_pres', 'republican_party_pres', 'year_off',\n",
    "       'democratic_candidate_off', 'democratic_votes_off', 'democratic_party_off',\n",
    "       'republican_candidate_off', 'republican_votes_off', 'republican_party_off',\n",
    "       'pres_year']"
   ]
  },
  {
   "cell_type": "code",
   "execution_count": 33,
   "metadata": {},
   "outputs": [
    {
     "data": {
      "text/plain": [
       "<AxesSubplot:xlabel='democratic_votes_pres', ylabel='democratic_votes_off'>"
      ]
     },
     "execution_count": 33,
     "metadata": {},
     "output_type": "execute_result"
    },
    {
     "data": {
      "image/png": "[encoded data removed]",
      "text/plain": [
       "<Figure size 432x288 with 1 Axes>"
      ]
     },
     "metadata": {
      "needs_background": "light"
     },
     "output_type": "display_data"
    }
   ],
   "source": [
    "offset_years.plot.scatter(x='democratic_votes_pres', y='democratic_votes_off')"
   ]
  },
  {
   "cell_type": "code",
   "execution_count": 34,
   "metadata": {},
   "outputs": [
    {
     "data": {
      "text/plain": [
       "<AxesSubplot:xlabel='republican_votes_pres', ylabel='republican_votes_off'>"
      ]
     },
     "execution_count": 34,
     "metadata": {},
     "output_type": "execute_result"
    },
    {
     "data": {
      "image/png": "[encoded data removed]",
      "text/plain": [
       "<Figure size 432x288 with 1 Axes>"
      ]
     },
     "metadata": {
      "needs_background": "light"
     },
     "output_type": "display_data"
    }
   ],
   "source": [
    "offset_years.plot.scatter(x='republican_votes_pres', y='republican_votes_off')"
   ]
  },
  {
   "cell_type": "markdown",
   "metadata": {},
   "source": [
    "\n"
   ]
  },
  {
   "cell_type": "markdown",
   "metadata": {},
   "source": [
    "Making more elaborate plots that get written to files."
   ]
  },
  {
   "cell_type": "code",
   "execution_count": 23,
   "metadata": {},
   "outputs": [],
   "source": [
    "import plotly.io as pio\n",
    "pio.renderers.default='notebook'"
   ]
  },
  {
   "cell_type": "code",
   "execution_count": 40,
   "metadata": {},
   "outputs": [],
   "source": [
    "data = []\n",
    "state = 'Louisiana'\n",
    "state_subset = top_two_by_race[(top_two_by_race.state==state) & (top_two_by_race.year>=2000)]\n",
    "for district in state_subset.district.unique():\n",
    "    subset = state_subset[state_subset.district==district]\n",
    "    trace = go.Scatter3d(\n",
    "        x=list(subset['year']),\n",
    "        y=list(subset['district']),\n",
    "        z=list(subset['democratic_votes']),\n",
    "        text=list(subset['democratic_candidate']),\n",
    "        mode='markers',\n",
    "        name=f'Dem Votes in {state} district {district}',\n",
    "        marker=dict(\n",
    "            size=4,\n",
    "            color='blue',\n",
    "            line=dict(\n",
    "                color='rgba(217, 217, 217, 0.14)',\n",
    "                width=0.5\n",
    "            ),\n",
    "            opacity=0.8,\n",
    "            )\n",
    "        )\n",
    "    data.append(trace)\n",
    "    trace = go.Scatter3d(\n",
    "        x=list(subset['year']),\n",
    "        y=list(subset['district']),\n",
    "        z=list(subset['republican_votes']),\n",
    "        text=list(subset['republican_candidate']),\n",
    "        mode='markers',\n",
    "        name=f'Rep Votes in {state} district {district}',\n",
    "        marker=dict(\n",
    "            size=4,\n",
    "            color='red',\n",
    "            line=dict(\n",
    "                color='rgba(217, 217, 217, 0.14)',\n",
    "                width=0.5\n",
    "            ),\n",
    "            opacity=0.8,\n",
    "            )\n",
    "        )\n",
    "    data.append(trace)\n",
    "\n",
    "layout = go.Layout(\n",
    "        margin=dict(l=0, r=0, b=0, t=0),\n",
    "        scene = dict(\n",
    "            aspectmode='cube',\n",
    "            xaxis = dict(title='Year'),\n",
    "            yaxis = dict(title='State'),\n",
    "            zaxis = dict(title='Votes'),),       \n",
    "        legend=dict(x=-.1, y=1.2)\n",
    "        )\n",
    "fig = go.Figure(data=data, layout=layout)\n",
    "# go.offline.plot(fig, filename='temp.html')\n",
    "fig.write_html(f'{state}.html')\n"
   ]
  },
  {
   "cell_type": "code",
   "execution_count": 41,
   "metadata": {},
   "outputs": [
    {
     "data": {
      "text/plain": [
       "<AxesSubplot:xlabel='district', ylabel='democratic_votes'>"
      ]
     },
     "execution_count": 41,
     "metadata": {},
     "output_type": "execute_result"
    },
    {
     "data": {
      "image/png": "[encoded data removed]",
      "text/plain": [
       "<Figure size 432x288 with 1 Axes>"
      ]
     },
     "metadata": {
      "needs_background": "light"
     },
     "output_type": "display_data"
    }
   ],
   "source": [
    "ax = state_subset.plot.scatter(x='district', y='republican_votes', color='red')\n",
    "state_subset.plot.scatter(x='district', y='democratic_votes', color = 'blue', ax=ax)\n",
    "\n"
   ]
  },
  {
   "cell_type": "code",
   "execution_count": 42,
   "metadata": {},
   "outputs": [],
   "source": [
    "# state_subset.plot.scatter(x='district', y='democratic_votes', color = 'blue', ax=ax)\n",
    "\n",
    "import plotly.graph_objects as go\n",
    "\n",
    "fig = go.Figure()\n",
    "\n",
    "fig.add_trace(go.Box(\n",
    "    y=state_subset.democratic_votes,\n",
    "    x=state_subset.district,\n",
    "    name='Dem Votes',\n",
    "    marker_color='blue'\n",
    "))\n",
    "\n",
    "fig.add_trace(go.Box(\n",
    "    y=state_subset.republican_votes,\n",
    "    x=state_subset.district,\n",
    "    name='Rep Votes',\n",
    "    marker_color='red'\n",
    "))\n",
    "\n",
    "\n",
    "fig.update_layout(\n",
    "    yaxis_title='Votes',\n",
    "    boxmode='group' # group together boxes of the different traces for each value of x\n",
    ")\n",
    "fig.write_html('foo_box.html')"
   ]
  }
 ],
 "metadata": {
  "kernelspec": {
   "display_name": "Python 3",
   "language": "python",
   "name": "python3"
  },
  "language_info": {
   "codemirror_mode": {
    "name": "ipython",
    "version": 3
   },
   "file_extension": ".py",
   "mimetype": "text/x-python",
   "name": "python",
   "nbconvert_exporter": "python",
   "pygments_lexer": "ipython3",
   "version": "3.8.3"
  }
 },
 "nbformat": 4,
 "nbformat_minor": 4
}
